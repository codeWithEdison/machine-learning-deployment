{
 "cells": [
  {
   "cell_type": "code",
   "execution_count": null,
   "id": "da5169a0-6ce3-492f-bdb0-ea48cd77ac7c",
   "metadata": {},
   "outputs": [],
   "source": [
    "import pandas as pd\n",
    "from sklearn.tree import DecisionTreeClassifier\n",
    "\n",
    "# Load the dataset\n",
    "musics = pd.read_csv('music.csv')\n",
    "\n",
    "# Split data into features and target\n",
    "x = musics.drop(columns=[\"genre\"])\n",
    "y = musics[\"genre\"]\n",
    "\n",
    "# Train the model\n",
    "model = DecisionTreeClassifier()\n",
    "model.fit(x, y)\n",
    "\n",
    "# Predict using a DataFrame with the same feature names\n",
    "predictions = model.predict(pd.DataFrame([[21, 1], [22, 0]], columns=x.columns))\n",
    "\n",
    "print(predictions)\n"
   ]
  },
  {
   "cell_type": "code",
   "execution_count": null,
   "id": "60a3506c-e7ff-4c99-abce-afb5e8a2e336",
   "metadata": {},
   "outputs": [],
   "source": [
    "x= musics.drop(columns =[\"genre\"])\n",
    "x"
   ]
  },
  {
   "cell_type": "code",
   "execution_count": null,
   "id": "54d7de19-d2a0-44a8-bc7a-77f5426d69f9",
   "metadata": {},
   "outputs": [],
   "source": []
  },
  {
   "cell_type": "code",
   "execution_count": null,
   "id": "328dd702-4aad-4330-8954-05be06ac99a9",
   "metadata": {},
   "outputs": [],
   "source": []
  },
  {
   "cell_type": "code",
   "execution_count": 5,
   "id": "de28719e-eaee-45a2-9a87-78b7a402f65c",
   "metadata": {},
   "outputs": [
    {
     "data": {
      "text/plain": [
       "0        HipHop\n",
       "1        HipHop\n",
       "2        HipHop\n",
       "3          Jazz\n",
       "4          Jazz\n",
       "5          Jazz\n",
       "6     Classical\n",
       "7     Classical\n",
       "8     Classical\n",
       "9         Dance\n",
       "10        Dance\n",
       "11        Dance\n",
       "12     Acoustic\n",
       "13     Acoustic\n",
       "14     Acoustic\n",
       "15    Classical\n",
       "16    Classical\n",
       "17    Classical\n",
       "Name: genre, dtype: object"
      ]
     },
     "execution_count": 5,
     "metadata": {},
     "output_type": "execute_result"
    }
   ],
   "source": [
    "y = musics[\"genre\"]\n",
    "y\n"
   ]
  },
  {
   "cell_type": "code",
   "execution_count": null,
   "id": "6edea112-419f-40be-ab69-2289edb8a345",
   "metadata": {},
   "outputs": [],
   "source": [
    "from sklearn.tree import DecisionTreeClassifier\n",
    "x= musics.drop(columns =[\"genre\"])\n",
    "model = DecisionTreeClassifier()\n",
    "model.fit(x,y)\n",
    "predictions = model.predict([21,1],[22,0])"
   ]
  },
  {
   "cell_type": "code",
   "execution_count": 79,
   "id": "b34e4db7-fb91-4449-9af2-e35ec71fc1f0",
   "metadata": {},
   "outputs": [
    {
     "name": "stdout",
     "output_type": "stream",
     "text": [
      "['Jazz' 'Jazz' 'Classical' 'Jazz' 'Jazz' 'Acoustic' 'Classical'\n",
      " 'Classical' 'Acoustic' 'Jazz' 'Dance']\n",
      "Accuracy: 63.636363636363633%\n",
      "precidion : 0.58\n",
      "recall : 0.70\n",
      "f1 score  : 0.58\n"
     ]
    },
    {
     "name": "stderr",
     "output_type": "stream",
     "text": [
      "C:\\Users\\edsnk\\AppData\\Roaming\\Python\\Python312\\site-packages\\sklearn\\metrics\\_classification.py:1531: UndefinedMetricWarning: Precision is ill-defined and being set to 0.0 in labels with no predicted samples. Use `zero_division` parameter to control this behavior.\n",
      "  _warn_prf(average, modifier, f\"{metric.capitalize()} is\", len(result))\n"
     ]
    }
   ],
   "source": [
    "from sklearn.tree import DecisionTreeClassifier\n",
    "from sklearn.preprocessing import LabelEncoder\n",
    "from sklearn.model_selection import train_test_split\n",
    "from sklearn.metrics import accuracy_score, precision_score, recall_score, f1_score, mean_absolute_error, mean_squared_error, r2_score \n",
    "\n",
    "\n",
    "label_encoder=  LabelEncoder()\n",
    "y_encoder = label_encoder.fit_transform(y);\n",
    "x_train, x_test, y_train, y_test = train_test_split(x, y_encoder, test_size = 0.6, random_state = 42)\n",
    "\n",
    "model = DecisionTreeClassifier()\n",
    "model.fit(x_train, y_train);\n",
    "y_pred = model.predict(x_test)\n",
    "\n",
    "y_pred_labels = label_encoder.inverse_transform(y_pred)\n",
    "\n",
    "print(y_pred_labels)\n",
    "\n",
    "accuracy = model.score(x_test, y_test);\n",
    "print(f\"Accuracy: {accuracy * 100:.15f}%\")\n",
    "\n",
    "# precision, recall , f1 score\n",
    "\n",
    "precision = precision_score(y_test, y_pred, average='macro')\n",
    "recall = recall_score(y_test, y_pred, average =\"macro\")\n",
    "f1 = f1_score(y_test, y_pred, average=\"macro\")\n",
    "\n",
    "print(f\"precidion : {precision:.2f}\")\n",
    "print(f\"recall : {recall:.2f}\")\n",
    "print(f\"f1 score  : {f1:.2f}\")"
   ]
  },
  {
   "cell_type": "code",
   "execution_count": null,
   "id": "3028de0c-3a2b-4ffd-8398-f04843072226",
   "metadata": {},
   "outputs": [],
   "source": []
  },
  {
   "cell_type": "code",
   "execution_count": null,
   "id": "0f87c017-aeda-498e-bfc2-6dcacea6afe1",
   "metadata": {},
   "outputs": [],
   "source": []
  }
 ],
 "metadata": {
  "kernelspec": {
   "display_name": "base",
   "language": "python",
   "name": "python3"
  },
  "language_info": {
   "codemirror_mode": {
    "name": "ipython",
    "version": 3
   },
   "file_extension": ".py",
   "mimetype": "text/x-python",
   "name": "python",
   "nbconvert_exporter": "python",
   "pygments_lexer": "ipython3",
   "version": "3.12.4"
  }
 },
 "nbformat": 4,
 "nbformat_minor": 5
}
